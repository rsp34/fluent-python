{
 "cells": [
  {
   "cell_type": "markdown",
   "id": "703a7c87",
   "metadata": {},
   "source": [
    "Use list comprehesions to do one thing. Create lists."
   ]
  },
  {
   "cell_type": "code",
   "execution_count": 21,
   "id": "2e9c7c51",
   "metadata": {},
   "outputs": [
    {
     "name": "stdout",
     "output_type": "stream",
     "text": [
      "[36, 162, 163, 165, 8364, 164]\n"
     ]
    }
   ],
   "source": [
    "symbols = \"$¢£¥€¤\"\n",
    "codes = [ord(symbol) for symbol in symbols]\n",
    "print(codes)"
   ]
  },
  {
   "cell_type": "markdown",
   "id": "b56af970",
   "metadata": {},
   "source": [
    "A generator expression is enclosed in parentheses and saves memory by only providing one item to a function call at a time. We can use them to do the same thing. I'm not quite sure what they do but that is covered in more detail in Chapter 4."
   ]
  },
  {
   "cell_type": "code",
   "execution_count": 8,
   "id": "203a115d",
   "metadata": {},
   "outputs": [
    {
     "data": {
      "text/plain": [
       "[36, 162, 163, 165, 8364, 164]"
      ]
     },
     "execution_count": 8,
     "metadata": {},
     "output_type": "execute_result"
    }
   ],
   "source": [
    "[x for x in (ord(symbol) for symbol in symbols)]"
   ]
  },
  {
   "cell_type": "markdown",
   "id": "dbfdf6e7",
   "metadata": {},
   "source": [
    " Tuples can be used as records as their position gives them meaning."
   ]
  },
  {
   "cell_type": "markdown",
   "id": "dbe3e0a5",
   "metadata": {},
   "source": [
    "We can unpack tuples too!"
   ]
  },
  {
   "cell_type": "code",
   "execution_count": 12,
   "id": "69e92dcd",
   "metadata": {},
   "outputs": [
    {
     "data": {
      "text/plain": [
       "'North'"
      ]
     },
     "execution_count": 12,
     "metadata": {},
     "output_type": "execute_result"
    }
   ],
   "source": [
    "compass_points = (\"North\", \"South\", \"East\", \"West\")\n",
    "North, South, East, West = compass_points\n",
    "North"
   ]
  },
  {
   "cell_type": "markdown",
   "id": "554f81dc",
   "metadata": {},
   "source": [
    "Which is often useful for swapping variables. The * prefix unpacks variables."
   ]
  },
  {
   "cell_type": "code",
   "execution_count": 14,
   "id": "32c9782e",
   "metadata": {},
   "outputs": [],
   "source": [
    "t = (20, 8)\n",
    "quotient, remainder = divmod(*t)"
   ]
  },
  {
   "cell_type": "markdown",
   "id": "c26b7568",
   "metadata": {},
   "source": [
    "We can also use only part of this output by unpacking to a dummy variable `_`."
   ]
  },
  {
   "cell_type": "code",
   "execution_count": 18,
   "id": "948bd007",
   "metadata": {},
   "outputs": [],
   "source": [
    "_, _ = divmod(*t)"
   ]
  },
  {
   "cell_type": "markdown",
   "id": "c366e696",
   "metadata": {},
   "source": [
    "The `*` operator can also be used to grab excess items from a function call which also works for parallel assignment."
   ]
  },
  {
   "cell_type": "code",
   "execution_count": 20,
   "id": "67dfe6e0",
   "metadata": {},
   "outputs": [
    {
     "data": {
      "text/plain": [
       "[2, 3, 4]"
      ]
     },
     "execution_count": 20,
     "metadata": {},
     "output_type": "execute_result"
    }
   ],
   "source": [
    "a, b, *rest = range(5)"
   ]
  },
  {
   "cell_type": "code",
   "execution_count": 24,
   "id": "977e8646",
   "metadata": {},
   "outputs": [],
   "source": [
    "*rest, a, b = range(5)"
   ]
  },
  {
   "cell_type": "markdown",
   "id": "1e48d29a",
   "metadata": {},
   "source": [
    "Tuple unpacking also works on nested structures if we match the nesting structures in the assigment."
   ]
  },
  {
   "cell_type": "code",
   "execution_count": 27,
   "id": "8e233928",
   "metadata": {},
   "outputs": [],
   "source": [
    "city, country_code, population_in_millions, (latitude, longitude) = (\n",
    "    \"New York-Newark\",\n",
    "    \"US\",\n",
    "    20.104,\n",
    "    (40.808611, -74.020386),\n",
    ")"
   ]
  },
  {
   "cell_type": "markdown",
   "id": "043a563e",
   "metadata": {},
   "source": [
    "Named tuples allow the creation of simple classes."
   ]
  },
  {
   "cell_type": "code",
   "execution_count": 8,
   "id": "8669fa8a",
   "metadata": {},
   "outputs": [
    {
     "data": {
      "text/plain": [
       "'Tokyo'"
      ]
     },
     "execution_count": 8,
     "metadata": {},
     "output_type": "execute_result"
    }
   ],
   "source": [
    "from collections import namedtuple\n",
    "\n",
    "City = namedtuple(\"City\", \"name country population coordinates\")\n",
    "tokyo = City(\"Tokyo\", \"JP\", 36.933, (35.689722, 139.691667))\n",
    "tokyo.name"
   ]
  },
  {
   "cell_type": "markdown",
   "id": "0a26082a",
   "metadata": {},
   "source": [
    "# Slices\n"
   ]
  },
  {
   "cell_type": "code",
   "execution_count": 11,
   "id": "dc0a2477",
   "metadata": {},
   "outputs": [],
   "source": [
    "l = list(range(10))"
   ]
  },
  {
   "cell_type": "markdown",
   "id": "af91c112",
   "metadata": {},
   "source": [
    "Interesting note that Python slice convention:\n",
    "* Is related to the length of the list returned rather than the index.\n"
   ]
  },
  {
   "cell_type": "code",
   "execution_count": 13,
   "id": "9af9c8f1",
   "metadata": {},
   "outputs": [
    {
     "data": {
      "text/plain": [
       "[0, 1, 2]"
      ]
     },
     "execution_count": 13,
     "metadata": {},
     "output_type": "execute_result"
    }
   ],
   "source": [
    "l[:3]"
   ]
  },
  {
   "cell_type": "markdown",
   "id": "90b2db6d",
   "metadata": {},
   "source": [
    "* Allows easy computation of the list length.\n"
   ]
  },
  {
   "cell_type": "code",
   "execution_count": 14,
   "id": "e1aaa8a2",
   "metadata": {},
   "outputs": [
    {
     "data": {
      "text/plain": [
       "True"
      ]
     },
     "execution_count": 14,
     "metadata": {},
     "output_type": "execute_result"
    }
   ],
   "source": [
    "len(l[1:4]) == 3"
   ]
  },
  {
   "cell_type": "markdown",
   "id": "f2a2ef8b",
   "metadata": {},
   "source": [
    "* Enables splitting of lists without over lap."
   ]
  },
  {
   "cell_type": "code",
   "execution_count": 15,
   "id": "a1cf613f",
   "metadata": {},
   "outputs": [
    {
     "data": {
      "text/plain": [
       "[3, 4, 5, 6, 7, 8, 9]"
      ]
     },
     "execution_count": 15,
     "metadata": {},
     "output_type": "execute_result"
    }
   ],
   "source": [
    "l[3:]"
   ]
  },
  {
   "cell_type": "markdown",
   "id": "7643197b",
   "metadata": {},
   "source": [
    "Slice items can be used rather than the colon operator."
   ]
  },
  {
   "cell_type": "code",
   "execution_count": 16,
   "id": "22bac818",
   "metadata": {},
   "outputs": [
    {
     "data": {
      "text/plain": [
       "[1]"
      ]
     },
     "execution_count": 16,
     "metadata": {},
     "output_type": "execute_result"
    }
   ],
   "source": [
    "my_slice = slice(1, 2)\n",
    "l[my_slice]"
   ]
  },
  {
   "cell_type": "markdown",
   "id": "8bab76ff",
   "metadata": {},
   "source": [
    "We can assign to slices too"
   ]
  },
  {
   "cell_type": "code",
   "execution_count": 19,
   "id": "d0e8f4d6",
   "metadata": {},
   "outputs": [
    {
     "data": {
      "text/plain": [
       "[0, -1, 2, 3, 4, 5, 6, 7, 8, 9]"
      ]
     },
     "execution_count": 19,
     "metadata": {},
     "output_type": "execute_result"
    }
   ],
   "source": [
    "l[1:2] = [-1]\n",
    "l"
   ]
  },
  {
   "cell_type": "markdown",
   "id": "9e687d88",
   "metadata": {},
   "source": [
    "A common pitfall is that..."
   ]
  },
  {
   "cell_type": "code",
   "execution_count": 20,
   "id": "75ee65c1",
   "metadata": {},
   "outputs": [
    {
     "data": {
      "text/plain": [
       "[['_', '_', '_'], ['_', '_', '_'], ['_', '_', '_']]"
      ]
     },
     "execution_count": 20,
     "metadata": {},
     "output_type": "execute_result"
    }
   ],
   "source": [
    "[[\"_\"] * 3] * 3"
   ]
  },
  {
   "cell_type": "markdown",
   "id": "e3ee87df",
   "metadata": {},
   "source": [
    "is equivalent to..."
   ]
  },
  {
   "cell_type": "code",
   "execution_count": 23,
   "id": "8237eeb5",
   "metadata": {},
   "outputs": [
    {
     "data": {
      "text/plain": [
       "[[1, '_', '_'], [1, '_', '_'], [1, '_', '_']]"
      ]
     },
     "execution_count": 23,
     "metadata": {},
     "output_type": "execute_result"
    }
   ],
   "source": [
    "row = ['_'] * 3\n",
    "weird_board = [row for _ in range(3)]\n",
    "weird_board[0][0] = 1\n",
    "weird_board"
   ]
  },
  {
   "cell_type": "markdown",
   "id": "0f10fd9c",
   "metadata": {},
   "source": [
    "and copies the same row three times."
   ]
  },
  {
   "cell_type": "markdown",
   "id": "707bad05",
   "metadata": {},
   "source": [
    "A strange example is given"
   ]
  },
  {
   "cell_type": "code",
   "execution_count": 25,
   "id": "df688414",
   "metadata": {},
   "outputs": [
    {
     "ename": "TypeError",
     "evalue": "'tuple' object does not support item assignment",
     "output_type": "error",
     "traceback": [
      "\u001b[1;31m---------------------------------------------------------------------------\u001b[0m",
      "\u001b[1;31mTypeError\u001b[0m                                 Traceback (most recent call last)",
      "Cell \u001b[1;32mIn [25], line 2\u001b[0m\n\u001b[0;32m      1\u001b[0m t \u001b[38;5;241m=\u001b[39m (\u001b[38;5;241m1\u001b[39m, \u001b[38;5;241m2\u001b[39m, [\u001b[38;5;241m30\u001b[39m, \u001b[38;5;241m40\u001b[39m])\n\u001b[1;32m----> 2\u001b[0m t[\u001b[38;5;241m2\u001b[39m] \u001b[38;5;241m+\u001b[39m\u001b[38;5;241m=\u001b[39m [\u001b[38;5;241m50\u001b[39m, \u001b[38;5;241m60\u001b[39m]\n\u001b[0;32m      3\u001b[0m t\n",
      "\u001b[1;31mTypeError\u001b[0m: 'tuple' object does not support item assignment"
     ]
    }
   ],
   "source": [
    "t = (1, 2, [30, 40])\n",
    "t[2] += [50, 60]"
   ]
  },
  {
   "cell_type": "code",
   "execution_count": 26,
   "id": "72931ed9",
   "metadata": {},
   "outputs": [
    {
     "data": {
      "text/plain": [
       "(1, 2, [30, 40, 50, 60])"
      ]
     },
     "execution_count": 26,
     "metadata": {},
     "output_type": "execute_result"
    }
   ],
   "source": [
    "t"
   ]
  },
  {
   "cell_type": "markdown",
   "id": "de88a494",
   "metadata": {},
   "source": [
    "By convention, in place changes are signalled by functions and methods that return nothing."
   ]
  },
  {
   "cell_type": "markdown",
   "id": "9a76e300",
   "metadata": {},
   "source": [
    "`sorted` and `sort` create a copy and in-lace sorting respectively."
   ]
  },
  {
   "cell_type": "markdown",
   "id": "6cc6d0f4",
   "metadata": {},
   "source": [
    "Arrays should be used to replace lists if all entries are the same and lists are supported."
   ]
  },
  {
   "cell_type": "code",
   "execution_count": 27,
   "id": "7f621144",
   "metadata": {},
   "outputs": [],
   "source": [
    "from array import array\n",
    "from random import random\n",
    "floats = array('d', (random() for i in range(10**7)))"
   ]
  },
  {
   "cell_type": "code",
   "execution_count": 28,
   "id": "a09aab88",
   "metadata": {},
   "outputs": [
    {
     "data": {
      "text/plain": [
       "0.4427969295213573"
      ]
     },
     "execution_count": 28,
     "metadata": {},
     "output_type": "execute_result"
    }
   ],
   "source": [
    "floats[-1]"
   ]
  },
  {
   "cell_type": "markdown",
   "id": "628ff996",
   "metadata": {},
   "source": [
    "Memory views can be used to change elements of large data sets."
   ]
  },
  {
   "cell_type": "code",
   "execution_count": 2,
   "id": "2ea5577b",
   "metadata": {},
   "outputs": [
    {
     "data": {
      "text/plain": [
       "-2"
      ]
     },
     "execution_count": 2,
     "metadata": {},
     "output_type": "execute_result"
    }
   ],
   "source": [
    "from array import array\n",
    "numbers = array('h',[-2,-1,0,1,2])\n",
    "memv = memoryview(numbers)\n",
    "len(memv)\n",
    "memv[0]\n"
   ]
  },
  {
   "cell_type": "markdown",
   "id": "26479e24",
   "metadata": {},
   "source": [
    "The code is quite understandable upto here."
   ]
  },
  {
   "cell_type": "code",
   "execution_count": 5,
   "id": "c3bf74c4",
   "metadata": {},
   "outputs": [
    {
     "data": {
      "text/plain": [
       "[254, 255, 255, 255, 0, 0, 1, 0, 2, 0]"
      ]
     },
     "execution_count": 5,
     "metadata": {},
     "output_type": "execute_result"
    }
   ],
   "source": [
    "memv_oct = memv.cast('B')\n",
    "memv_oct.tolist()"
   ]
  },
  {
   "cell_type": "markdown",
   "id": "8e62e047",
   "metadata": {},
   "source": [
    "In these last few lines...\n",
    "\n",
    "The `cast` method of a memoryview object returns a new memoryview object that points to the same memory block, but with a different format. In this case, the format is changed from signed short integers ('h') to unsigned char ('B'). This changes how the data in the memory block is interpreted.\n",
    "\n",
    "When the memoryview object is converted to a list using the tolist method, each element of the original array is represented as two elements in the new list. This is because a signed short integer takes up two bytes of memory, while an unsigned char takes up only one byte. The values in the new list are obtained by splitting each signed short integer into two bytes and interpreting each byte as an unsigned char.\n",
    "\n",
    "For example, the first element of the original array is -2. In binary, this is represented as 1111111111111110. When this value is split into two bytes, we get 11111111 and 11111110, which are 255 and 254 in decimal, respectively. These values are then interpreted as unsigned chars and added to the new list.\n",
    "\n",
    "Is there anything else you would like to know?"
   ]
  },
  {
   "cell_type": "code",
   "execution_count": 6,
   "id": "b54b0c18",
   "metadata": {},
   "outputs": [
    {
     "name": "stdout",
     "output_type": "stream",
     "text": [
      "b'\\x00\\x00\\x00\\x00\\x00\\x00\\x00\\x00\\x00\\x00\\x00\\x00\\x00\\x00\\x00\\x00\\x00\\x00\\x00\\x00\\x00\\x00\\x00\\x00\\x00\\x00\\x00\\x00\\x00\\x00\\x00\\x00\\x00\\x00\\x00\\x00\\x00\\x00\\x00\\x00\\x00\\x00\\x00\\x00\\x00\\x00\\x00\\x00\\x00\\x00\\x00\\x00\\x00\\x00\\x00\\x00\\x00\\x00\\x00\\x00\\x00\\x00\\x00\\x00\\x00\\x00\\x00\\x00\\x00\\x00\\x00\\x00\\x00\\x00\\x00\\x00\\x00\\x00\\x00\\x00\\x00\\x00\\x00\\x00\\x00\\x00\\x00\\x00\\x00\\x00\\x00\\x00\\x00\\x00\\x00\\x00\\x00\\x00\\x00\\x00\\x00\\x00\\x00\\x00\\x00\\x00\\x00\\x00\\x00\\x00\\x00\\x00\\x00\\x00\\x00\\x00\\x00\\x00\\x00\\x00\\x00\\x00\\x00\\x00\\x00\\x00\\x00\\x00\\x00\\x00\\x00\\x00\\x00\\x00\\x00\\x00\\x00\\x00\\x00\\x00\\x00\\x00\\x00\\x00\\x00\\x00\\x00\\x00\\x00\\x00\\x00\\x00\\x00\\x00\\x00\\x00\\x00\\x00\\x00\\x00\\x00\\x00\\x00\\x00\\x00\\x00\\x00\\x00\\x00\\x00\\x00\\x00\\x00\\x00\\x00\\x00\\x00\\x00\\x00\\x00\\x00\\x00\\x00\\x00\\x00\\x00\\x00\\x00\\x00\\x00\\x00\\x00\\x00\\x00\\x00\\x00\\x00\\x00\\x00\\x00\\x00\\x00\\x00\\x00\\x00\\x00\\x00\\x00\\x00\\x00\\x00\\x00\\x00\\x00\\x00\\x00\\x00\\x00\\x00\\x00\\x00\\x00\\x00\\x00\\x00\\x00\\x00\\x00\\x00\\x00\\x00\\x00\\x00\\x00\\x00\\x00\\x00\\x00\\x00\\x00\\x00\\x00\\x00\\x00\\x00\\x00\\x00\\x00\\x00\\x00\\x00\\x00\\x00\\x00\\x00'\n"
     ]
    }
   ],
   "source": [
    "print(bytes(memv_oct[1]))"
   ]
  },
  {
   "cell_type": "code",
   "execution_count": 7,
   "id": "daee81da",
   "metadata": {},
   "outputs": [
    {
     "data": {
      "text/plain": [
       "array('h', [-2, -1, 0, 1, 2])"
      ]
     },
     "execution_count": 7,
     "metadata": {},
     "output_type": "execute_result"
    }
   ],
   "source": [
    "numbers"
   ]
  },
  {
   "cell_type": "code",
   "execution_count": null,
   "id": "6660a704",
   "metadata": {},
   "outputs": [],
   "source": []
  }
 ],
 "metadata": {
  "kernelspec": {
   "display_name": "Python 3.10.7 64-bit",
   "language": "python",
   "name": "python3"
  },
  "language_info": {
   "codemirror_mode": {
    "name": "ipython",
    "version": 3
   },
   "file_extension": ".py",
   "mimetype": "text/x-python",
   "name": "python",
   "nbconvert_exporter": "python",
   "pygments_lexer": "ipython3",
   "version": "3.10.7"
  },
  "vscode": {
   "interpreter": {
    "hash": "369f2c481f4da34e4445cda3fffd2e751bd1c4d706f27375911949ba6bb62e1c"
   }
  }
 },
 "nbformat": 4,
 "nbformat_minor": 5
}
