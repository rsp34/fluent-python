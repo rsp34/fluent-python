{
 "cells": [
  {
   "cell_type": "markdown",
   "id": "703a7c87",
   "metadata": {},
   "source": [
    "Use list comprehesions to do one thing. Create lists."
   ]
  },
  {
   "cell_type": "code",
   "execution_count": 3,
   "id": "2e9c7c51",
   "metadata": {},
   "outputs": [
    {
     "name": "stdout",
     "output_type": "stream",
     "text": [
      "[36, 162, 163, 165, 8364, 164]\n"
     ]
    }
   ],
   "source": [
    "symbols = '$¢£¥€¤'\n",
    "codes = [ord(symbol) for symbol in symbols]\n",
    "print(codes)"
   ]
  },
  {
   "cell_type": "markdown",
   "id": "b56af970",
   "metadata": {},
   "source": [
    "A generator expression is enclosed in parentheses and saves memory by only providing one item to a function call at a time. We can use them to do the same thing. I'm not quite sure what they do but that is covered in more detail in Chapter 4."
   ]
  },
  {
   "cell_type": "code",
   "execution_count": 8,
   "id": "203a115d",
   "metadata": {},
   "outputs": [
    {
     "data": {
      "text/plain": [
       "[36, 162, 163, 165, 8364, 164]"
      ]
     },
     "execution_count": 8,
     "metadata": {},
     "output_type": "execute_result"
    }
   ],
   "source": [
    "[x for x in (ord(symbol) for symbol in symbols)]"
   ]
  },
  {
   "cell_type": "markdown",
   "id": "dbfdf6e7",
   "metadata": {},
   "source": [
    " Tuples can be used as records as their position gives them meaning."
   ]
  },
  {
   "cell_type": "markdown",
   "id": "dbe3e0a5",
   "metadata": {},
   "source": [
    "We can unpack tuples too!"
   ]
  },
  {
   "cell_type": "code",
   "execution_count": 12,
   "id": "69e92dcd",
   "metadata": {},
   "outputs": [
    {
     "data": {
      "text/plain": [
       "'North'"
      ]
     },
     "execution_count": 12,
     "metadata": {},
     "output_type": "execute_result"
    }
   ],
   "source": [
    "compass_points = ('North','South','East','West')\n",
    "North, South, East, West = compass_points\n",
    "North"
   ]
  },
  {
   "cell_type": "markdown",
   "id": "554f81dc",
   "metadata": {},
   "source": [
    "Which is often useful for swapping variables. The * prefix unpacks variables."
   ]
  },
  {
   "cell_type": "code",
   "execution_count": 14,
   "id": "32c9782e",
   "metadata": {},
   "outputs": [],
   "source": [
    "t = (20, 8)\n",
    "quotient, remainder = divmod(*t)"
   ]
  },
  {
   "cell_type": "markdown",
   "id": "c26b7568",
   "metadata": {},
   "source": [
    "We can also use only part of this output by unpacking to a dummy variable `_`."
   ]
  },
  {
   "cell_type": "code",
   "execution_count": 18,
   "id": "948bd007",
   "metadata": {},
   "outputs": [],
   "source": [
    "_, _ = divmod(*t)"
   ]
  },
  {
   "cell_type": "markdown",
   "id": "c366e696",
   "metadata": {},
   "source": [
    "The `*` operator can also be used to grab excess items from a function call which also works for parallel assignment."
   ]
  },
  {
   "cell_type": "code",
   "execution_count": 20,
   "id": "67dfe6e0",
   "metadata": {},
   "outputs": [
    {
     "data": {
      "text/plain": [
       "[2, 3, 4]"
      ]
     },
     "execution_count": 20,
     "metadata": {},
     "output_type": "execute_result"
    }
   ],
   "source": [
    "a, b, *rest = range(5)"
   ]
  },
  {
   "cell_type": "code",
   "execution_count": 24,
   "id": "977e8646",
   "metadata": {},
   "outputs": [],
   "source": [
    "*rest, a, b = range(5)"
   ]
  },
  {
   "cell_type": "markdown",
   "id": "1e48d29a",
   "metadata": {},
   "source": [
    "Tuple unpacking also works on nested structures if we match the nesting structures in the assigment."
   ]
  },
  {
   "cell_type": "code",
   "execution_count": 27,
   "id": "8e233928",
   "metadata": {},
   "outputs": [],
   "source": [
    "city, country_code, population_in_millions, (latitude, longitude) = 'New York-Newark', 'US', 20.104, (40.808611, -74.020386)"
   ]
  },
  {
   "cell_type": "code",
   "execution_count": null,
   "id": "e913a660",
   "metadata": {},
   "outputs": [],
   "source": []
  }
 ],
 "metadata": {
  "kernelspec": {
   "display_name": "Python 3 (ipykernel)",
   "language": "python",
   "name": "python3"
  },
  "language_info": {
   "codemirror_mode": {
    "name": "ipython",
    "version": 3
   },
   "file_extension": ".py",
   "mimetype": "text/x-python",
   "name": "python",
   "nbconvert_exporter": "python",
   "pygments_lexer": "ipython3",
   "version": "3.10.7"
  }
 },
 "nbformat": 4,
 "nbformat_minor": 5
}
