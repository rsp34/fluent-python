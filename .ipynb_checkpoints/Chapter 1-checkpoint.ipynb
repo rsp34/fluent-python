{
 "cells": [
  {
   "cell_type": "code",
   "execution_count": 8,
   "id": "9f4f0a01",
   "metadata": {},
   "outputs": [],
   "source": [
    "import collections\n",
    "\n",
    "Card = collections.namedtuple('Card', ['rank', 'suit'])\n",
    "\n",
    "class FrenchDeck:\n",
    "    ranks = [str(n) for n in range(2, 11)] + list('JQKA')\n",
    "    suits = 'spades diamonds clubs hearts'.split()\n",
    "    \n",
    "    def __init__(self):\n",
    "        self._cards = [Card(rank, suit) for suit in self.suits\n",
    "                       for rank in self.ranks]\n",
    "    def __len__(self):\n",
    "        return len(self._cards)\n",
    "    \n",
    "    def __getitem__(self, position):\n",
    "        return self._cards[position]\n",
    "    "
   ]
  },
  {
   "cell_type": "markdown",
   "id": "8b94ed40",
   "metadata": {},
   "source": [
    "The use of the `collections.namedtuple` is interesting as namedtuple can be used to build classes of objects that are just bundles of attributes with no custom methods, like a database record."
   ]
  },
  {
   "cell_type": "code",
   "execution_count": 14,
   "id": "58388fea",
   "metadata": {},
   "outputs": [
    {
     "data": {
      "text/plain": [
       "'schnouzer'"
      ]
     },
     "execution_count": 14,
     "metadata": {},
     "output_type": "execute_result"
    }
   ],
   "source": [
    "Dog = collections.namedtuple('Dog',['age','breed'])\n",
    "dogs = [Dog(10,'schnouzer'), Dog(5,'labrador'), Dog(3,'poodle')]\n",
    "dogs[0]"
   ]
  },
  {
   "cell_type": "markdown",
   "id": "9baa2a39",
   "metadata": {},
   "source": [
    "Based on how we've constructed our deck, we can leverage other python code."
   ]
  },
  {
   "cell_type": "code",
   "execution_count": 44,
   "id": "206e30ac",
   "metadata": {},
   "outputs": [
    {
     "data": {
      "text/plain": [
       "Card(rank='8', suit='diamonds')"
      ]
     },
     "execution_count": 44,
     "metadata": {},
     "output_type": "execute_result"
    }
   ],
   "source": [
    "from random import choice\n",
    "deck = FrenchDeck()\n",
    "choice(deck)"
   ]
  },
  {
   "cell_type": "markdown",
   "id": "50c767b3",
   "metadata": {},
   "source": [
    "Implementing the `__getitem__` method means that our class automatically supports slicing..."
   ]
  },
  {
   "cell_type": "code",
   "execution_count": 48,
   "id": "21272f86",
   "metadata": {},
   "outputs": [
    {
     "data": {
      "text/plain": [
       "[Card(rank='K', suit='hearts'), Card(rank='A', suit='hearts')]"
      ]
     },
     "execution_count": 48,
     "metadata": {},
     "output_type": "execute_result"
    }
   ],
   "source": [
    "deck[50:]"
   ]
  },
  {
   "cell_type": "markdown",
   "id": "d6fa7a1d",
   "metadata": {},
   "source": [
    "and iteration."
   ]
  },
  {
   "cell_type": "code",
   "execution_count": 49,
   "id": "3dc9af06",
   "metadata": {},
   "outputs": [
    {
     "name": "stdout",
     "output_type": "stream",
     "text": [
      "Card(rank='2', suit='spades')\n",
      "Card(rank='3', suit='spades')\n",
      "Card(rank='4', suit='spades')\n",
      "Card(rank='5', suit='spades')\n",
      "Card(rank='6', suit='spades')\n",
      "Card(rank='7', suit='spades')\n",
      "Card(rank='8', suit='spades')\n",
      "Card(rank='9', suit='spades')\n",
      "Card(rank='10', suit='spades')\n",
      "Card(rank='J', suit='spades')\n"
     ]
    }
   ],
   "source": [
    "for card in deck[:10]:\n",
    "    print(card)"
   ]
  },
  {
   "cell_type": "code",
   "execution_count": null,
   "id": "da3d795d",
   "metadata": {},
   "outputs": [],
   "source": []
  }
 ],
 "metadata": {
  "kernelspec": {
   "display_name": "Python 3 (ipykernel)",
   "language": "python",
   "name": "python3"
  },
  "language_info": {
   "codemirror_mode": {
    "name": "ipython",
    "version": 3
   },
   "file_extension": ".py",
   "mimetype": "text/x-python",
   "name": "python",
   "nbconvert_exporter": "python",
   "pygments_lexer": "ipython3",
   "version": "3.10.7"
  }
 },
 "nbformat": 4,
 "nbformat_minor": 5
}
